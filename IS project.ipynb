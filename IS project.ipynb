{
  "metadata": {
    "kernelspec": {
      "name": "python",
      "display_name": "Python (Pyodide)",
      "language": "python"
    },
    "language_info": {
      "codemirror_mode": {
        "name": "python",
        "version": 3
      },
      "file_extension": ".py",
      "mimetype": "text/x-python",
      "name": "python",
      "nbconvert_exporter": "python",
      "pygments_lexer": "ipython3",
      "version": "3.8"
    }
  },
  "nbformat_minor": 5,
  "nbformat": 4,
  "cells": [
    {
      "id": "e92b3cf7-b941-449c-a5eb-c96a92d4a94a",
      "cell_type": "code",
      "source": "import random\nimport math\n\n# Example cost function: total makespan (time taken by the last task to finish)\ndef calculate_makespan(tasks, machines):\n    machine_times = [0] * len(machines)\n    for i, task in enumerate(tasks):\n        machine_times[machines[i]] += task\n    return max(machine_times)\n\n# Neighbor function: reassign one task randomly to another machine\ndef generate_neighbor(machines, num_machines):\n    neighbor = machines[:]\n    task_to_move = random.randint(0, len(machines) - 1)\n    new_machine = random.randint(0, num_machines - 1)\n    neighbor[task_to_move] = new_machine\n    return neighbor\n\n# Simulated Annealing algorithm\ndef simulated_annealing(tasks, num_machines, initial_temp, cooling_rate, max_iter):\n    current_solution = [random.randint(0, num_machines - 1) for _ in range(len(tasks))]\n    current_cost = calculate_makespan(tasks, current_solution)\n    temperature = initial_temp\n\n    best_solution = current_solution\n    best_cost = current_cost\n\n    for iteration in range(max_iter):\n        neighbor = generate_neighbor(current_solution, num_machines)\n        neighbor_cost = calculate_makespan(tasks, neighbor)\n        delta_cost = neighbor_cost - current_cost\n\n        # If the new solution is better, accept it\n        if delta_cost < 0:\n            current_solution = neighbor\n            current_cost = neighbor_cost\n        else:\n            # Accept the worse solution with a certain probability\n            acceptance_probability = math.exp(-delta_cost / temperature)\n            if random.random() < acceptance_probability:\n                current_solution = neighbor\n                current_cost = neighbor_cost\n\n        # Update the best solution found\n        if current_cost < best_cost:\n            best_solution = current_solution\n            best_cost = current_cost\n\n        # Cool down the temperature\n        temperature *= cooling_rate\n\n    return best_solution, best_cost\n\n# Example usage\ntasks = [3, 2, 4, 6, 5]  # Example task durations\nnum_machines = 3\nbest_solution, best_cost = simulated_annealing(tasks, num_machines, initial_temp=1000, cooling_rate=0.99, max_iter=1000)\nprint(\"Best solution:\", best_solution)\nprint(\"Best cost (makespan):\", best_cost)\n",
      "metadata": {
        "trusted": true
      },
      "outputs": [
        {
          "name": "stdout",
          "output_type": "stream",
          "text": "Best solution: [1, 0, 1, 2, 0]\nBest cost (makespan): 7\n"
        }
      ],
      "execution_count": 1
    },
    {
      "id": "bdd1db72-8cde-47c9-b7ce-16f917a9ce26",
      "cell_type": "code",
      "source": "",
      "metadata": {
        "trusted": true
      },
      "outputs": [],
      "execution_count": null
    },
    {
      "id": "f3652c0a-f4d3-48ef-a0af-4fded3d72bda",
      "cell_type": "code",
      "source": "",
      "metadata": {
        "trusted": true
      },
      "outputs": [],
      "execution_count": null
    }
  ]
}